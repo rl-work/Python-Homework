{
 "cells": [
  {
   "cell_type": "code",
   "execution_count": 6,
   "metadata": {},
   "outputs": [],
   "source": [
    "#Define Variable\n",
    "\n",
    "\n",
    "c\n",
    "profit_loss_change = 0\n",
    "previous_month = 0\n",
    "current_month = 0\n",
    "sum_changes = 0\n",
    "total_months = 0\n",
    "\n",
    "total_revenue = []\n",
    "month_of_change = []\n",
    "average_change_profit_losses = []\n"
   ]
  },
  {
   "cell_type": "code",
   "execution_count": null,
   "metadata": {},
   "outputs": [],
   "source": [
    "\n",
    "    for row in csvreader:\n",
    "        total_months += 1\n",
    "        current_month = int(row[1])\n",
    "        net_total+= current_month\n",
    "        \n",
    "        if total_months == 1:\n",
    "            previous_month = current_month\n",
    "        else:\n",
    "            profit_loss_change = current_month - previous_month\n",
    "            months.append(profit_loss_change)\n",
    "     \n",
    "    \n",
    "    \n",
    "    for row in csvreader:\n",
    "        total_months += 1\n",
    "        current_month = int(row[1])\n",
    "        net_total+= current_month\n",
    "        \n",
    "        if total_months == 1:\n",
    "            previous_month = current_month\n",
    "        else:\n",
    "            profit_loss_change = current_month - previous_month\n",
    "            months.append(profit_loss_change)\n",
    "    \n",
    "    \n",
    "    \n",
    "    \n",
    "    \n",
    "    \n",
    "    \n",
    "    \n",
    "    \n",
    "    \n",
    "    \n",
    "    \n",
    "    \n",
    "    \n",
    "    \n",
    "    print(revenue_change_list)    \n",
    "    sum_changes = sum(profit_loss_change)\n",
    "    print(profit_loss_change)\n",
    "    average_change =round(((sum_changes/total_months -1)), 2)\n",
    "    greatest_increase =  max(profit_loss_changes)\n",
    "    greatest_increase_index = profit_loss_change.index(greatest_increase)\n",
    "    greatest_date = months[greatest_increase_index]\n",
    "    greatest_decrease = min(profit_loss_changes)\n",
    "    greatest_decrease_index = profit_loss_change.index(greatest_decrease)\n",
    "    worst_date = months(greatest_decrease_index)\n",
    "            "
   ]
  }
 ],
 "metadata": {
  "kernelspec": {
   "display_name": "Python 3",
   "language": "python",
   "name": "python3"
  },
  "language_info": {
   "codemirror_mode": {
    "name": "ipython",
    "version": 3
   },
   "file_extension": ".py",
   "mimetype": "text/x-python",
   "name": "python",
   "nbconvert_exporter": "python",
   "pygments_lexer": "ipython3",
   "version": "3.8.3"
  }
 },
 "nbformat": 4,
 "nbformat_minor": 4
}
