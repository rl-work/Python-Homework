{
 "cells": [
  {
   "cell_type": "code",
   "execution_count": 7,
   "metadata": {},
   "outputs": [
    {
     "name": "stdout",
     "output_type": "stream",
     "text": [
      "Financial Analysis\n",
      "\n",
      "----------------------------\n",
      "\n",
      "Total number of months: 86\n",
      "Total Revenue in period: $ 38382578\n",
      "Average monthly change in Revenue : $-2315.1176470588234\n",
      "Greatest Increase in Profits: Feb-12 ($1926159)\n",
      "Greatest Decrease in Profits: Sep-13 ($-2196167)\n"
     ]
    }
   ],
   "source": [
    "from pathlib import Path\n",
    "import csv\n",
    "csvpath = Path(\"budget_data.csv\")\n",
    "\n",
    "\n",
    "with open(csvpath, newline='') as csvfile:\n",
    "    csvreader = csv.reader(csvfile, delimiter=',')\n",
    "    \n",
    "    csv_header = next(csvreader)\n",
    "    month = []\n",
    "    revenue = []\n",
    "    revenue_change = []\n",
    "    monthly_change = []\n",
    "    \n",
    "             \n",
    "\n",
    "#Months       \n",
    "    for row in csvreader:\n",
    "        month.append(row[0])\n",
    "        revenue.append(row[1])\n",
    " \n",
    " #Revenue \n",
    "    revenue_int = map(int,revenue)\n",
    "    total_revenue = (sum(revenue_int))\n",
    "   \n",
    "\n",
    " #Avg Change\n",
    "    i = 0\n",
    "    for i in range(len(revenue) - 1):\n",
    "        profit_loss = int(revenue[i+1]) - int(revenue[i])\n",
    " # append profit_loss\n",
    "        revenue_change.append(profit_loss)\n",
    "    Total = sum(revenue_change)\n",
    "    #print(revenue_change)\n",
    "    monthly_change = Total / len(revenue_change)\n",
    "    \n",
    "\n",
    "    \n",
    "#Greatest Increase\n",
    "    profit_increase = max(revenue_change)\n",
    "   \n",
    "    k = revenue_change.index(profit_increase)\n",
    "    month_increase = month[k+1]\n",
    "    \n",
    "#Greatest Decrease\n",
    "    profit_decrease = min(revenue_change)\n",
    "   \n",
    "    j = revenue_change.index(profit_decrease)\n",
    "    month_decrease = month[j+1]\n",
    "\n",
    "\n",
    "#Print Statements\n",
    "\n",
    "print(f'Financial Analysis'+'\\n')\n",
    "print(f'----------------------------'+'\\n')\n",
    "\n",
    "\n",
    "print(\"Total number of months: \" + str(len(month)))\n",
    "\n",
    "print(\"Total Revenue in period: $ \" + str(total_revenue))\n",
    "      \n",
    "print(\"Average monthly change in Revenue : $\" + str(monthly_change))\n",
    "\n",
    "print(f\"Maximum Profit: {month_increase} (${profit_increase})\")\n",
    "\n",
    "print(f\"Greatest Loss: {month_decrease} (${profit_decrease})\")\n",
    "\n"
   ]
  }
 ],
 "metadata": {
  "kernelspec": {
   "display_name": "Python 3",
   "language": "python",
   "name": "python3"
  },
  "language_info": {
   "codemirror_mode": {
    "name": "ipython",
    "version": 3
   },
   "file_extension": ".py",
   "mimetype": "text/x-python",
   "name": "python",
   "nbconvert_exporter": "python",
   "pygments_lexer": "ipython3",
   "version": "3.8.3"
  }
 },
 "nbformat": 4,
 "nbformat_minor": 4
}
