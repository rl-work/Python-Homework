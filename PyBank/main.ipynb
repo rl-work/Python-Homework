{
 "cells": [
  {
   "cell_type": "code",
   "execution_count": 27,
   "metadata": {},
   "outputs": [],
   "source": [
    "#Define Variables\n",
    "line_num = 0\n",
    "greatest_increase = 0\n",
    "greatest_decrease = 0\n",
    "net_total = 0\n",
    "current_total = 0\n",
    "profit_loss_change = 0\n",
    "previous_month = 0\n",
    "current_month = 0\n",
    "sum_changes = 0\n",
    "total_months = 0\n",
    "months = []\n",
    "total_revenue = []\n",
    "month_of_change = []\n",
    "average_change_profit_losses = []\n"
   ]
  },
  {
   "cell_type": "code",
   "execution_count": 36,
   "metadata": {},
   "outputs": [
    {
     "name": "stdout",
     "output_type": "stream",
     "text": [
      "<class '_csv.reader'>\n"
     ]
    },
    {
     "ename": "TypeError",
     "evalue": "'int' object is not iterable",
     "output_type": "error",
     "traceback": [
      "\u001b[1;31m---------------------------------------------------------------------------\u001b[0m",
      "\u001b[1;31mTypeError\u001b[0m                                 Traceback (most recent call last)",
      "\u001b[1;32m<ipython-input-36-3623bdb13fbb>\u001b[0m in \u001b[0;36m<module>\u001b[1;34m\u001b[0m\n\u001b[0;32m     22\u001b[0m             \u001b[1;31m#print(profit_loss_change)\u001b[0m\u001b[1;33m\u001b[0m\u001b[1;33m\u001b[0m\u001b[1;33m\u001b[0m\u001b[0m\n\u001b[0;32m     23\u001b[0m \u001b[1;33m\u001b[0m\u001b[0m\n\u001b[1;32m---> 24\u001b[1;33m         \u001b[0msum_changes\u001b[0m \u001b[1;33m=\u001b[0m \u001b[0msum\u001b[0m\u001b[1;33m(\u001b[0m\u001b[0mprofit_loss_change\u001b[0m\u001b[1;33m)\u001b[0m\u001b[1;33m\u001b[0m\u001b[1;33m\u001b[0m\u001b[0m\n\u001b[0m\u001b[0;32m     25\u001b[0m         \u001b[0mprint\u001b[0m\u001b[1;33m(\u001b[0m\u001b[0mprofit_loss_change\u001b[0m\u001b[1;33m)\u001b[0m\u001b[1;33m\u001b[0m\u001b[1;33m\u001b[0m\u001b[0m\n\u001b[0;32m     26\u001b[0m     \u001b[0maverage_change\u001b[0m \u001b[1;33m=\u001b[0m\u001b[0mround\u001b[0m\u001b[1;33m(\u001b[0m\u001b[1;33m(\u001b[0m\u001b[1;33m(\u001b[0m\u001b[0msum_changes\u001b[0m\u001b[1;33m/\u001b[0m\u001b[0mtotal_months\u001b[0m \u001b[1;33m-\u001b[0m\u001b[1;36m1\u001b[0m\u001b[1;33m)\u001b[0m\u001b[1;33m)\u001b[0m\u001b[1;33m,\u001b[0m \u001b[1;36m2\u001b[0m\u001b[1;33m)\u001b[0m\u001b[1;33m\u001b[0m\u001b[1;33m\u001b[0m\u001b[0m\n",
      "\u001b[1;31mTypeError\u001b[0m: 'int' object is not iterable"
     ]
    }
   ],
   "source": [
    "from pathlib import Path\n",
    "import csv\n",
    "import os\n",
    "filepath = Path(\"/budget_data.csv\") \n",
    "with open (\"budget_data.csv\", newline = \"\") as csvfile:\n",
    "    csvreader = csv.reader(csvfile, delimiter = \",\")\n",
    "    print(type(csvreader))\n",
    "    \n",
    "    header = next (csvreader)\n",
    "    line_num += 1\n",
    "    \n",
    "    for row in csvreader:\n",
    "        total_months += 1\n",
    "        current_month = + int(row[1])\n",
    "        net_total+= current_month\n",
    "        \n",
    "        if total_months == 1:\n",
    "            previous_month = current_month\n",
    "        else:\n",
    "            profit_loss_change = current_month - previous_month\n",
    "            months.append(row[0])\n",
    "            \n",
    "            \n",
    "        sum_changes = sum(profit_loss_change)\n",
    "        print(profit_loss_change)\n",
    "    average_change =round(((sum_changes/total_months -1)), 2)\n",
    "    greatest_increase =  max(profit_loss_changes)\n",
    "    greatest_increase_index = profit_loss_change.index(greatest_increase)\n",
    "    greatest_date = months[greatest_increase_index]\n",
    "    greatest_decrease = min(profit_loss_changes)\n",
    "    greatest_decrease_index = profit_loss_change.index(greatest_decrease)\n",
    "            "
   ]
  },
  {
   "cell_type": "code",
   "execution_count": null,
   "metadata": {},
   "outputs": [],
   "source": []
  }
 ],
 "metadata": {
  "kernelspec": {
   "display_name": "Python 3",
   "language": "python",
   "name": "python3"
  },
  "language_info": {
   "codemirror_mode": {
    "name": "ipython",
    "version": 3
   },
   "file_extension": ".py",
   "mimetype": "text/x-python",
   "name": "python",
   "nbconvert_exporter": "python",
   "pygments_lexer": "ipython3",
   "version": "3.8.3"
  }
 },
 "nbformat": 4,
 "nbformat_minor": 4
}
