{
 "cells": [
  {
   "cell_type": "code",
   "execution_count": 1,
   "metadata": {},
   "outputs": [
    {
     "name": "stdout",
     "output_type": "stream",
     "text": [
      "Financial Analysis\n",
      "\n",
      "----------------------------\n",
      "\n",
      "Total Number of Months: 86\n",
      "Total Revenue in period: $ 38382578\n",
      "Average Monthly Net Change: $-2315.1176470588234\n",
      "Greatest Monthly Increase: Feb-12 ($1926159)\n",
      "Greatest Monthly Loss: Sep-13 ($-2196167)\n"
     ]
    }
   ],
   "source": [
    "from pathlib import Path\n",
    "import csv\n",
    "csvpath = Path(\"budget_data.csv\")\n",
    "\n",
    "\n",
    "with open(csvpath, newline='') as csvfile:\n",
    "    csvreader = csv.reader(csvfile, delimiter=',')\n",
    "    \n",
    "    csv_header = next(csvreader)\n",
    "    month = []\n",
    "    net_total = []\n",
    "    net_change = []\n",
    "    monthly_change = []\n",
    "           \n",
    "    for row in csvreader:\n",
    "        month.append(row[0])\n",
    "        net_total.append(row[1])\n",
    "\n",
    " \n",
    "    pl = map(int,net_total)\n",
    "    total_revenue = (sum(pl))\n",
    "    \n",
    "    average_change = 0\n",
    "    for average_change in range(len(net_total) - 1):\n",
    "        profit_loss = int(net_total[average_change+1]) - int(net_total[average_change])\n",
    " \n",
    "        net_change.append(profit_loss)\n",
    "    Total = sum(net_change)\n",
    "    \n",
    "    monthly_change = Total / len(net_change)\n",
    "    \n",
    "    profit_increase = max(net_change)\n",
    "    increase = net_change.index(profit_increase)\n",
    "    month_increase = month[increase+1]\n",
    "    \n",
    "    profit_decrease = min(net_change)\n",
    "    decrease = net_change.index(profit_decrease)\n",
    "    month_decrease = month[decrease+1]\n",
    "\n",
    "print(f'Financial Analysis'+'\\n')\n",
    "print(f'----------------------------'+'\\n')\n",
    "print(\"Total Number of Months: \" + str(len(month)))\n",
    "print(\"Total Revenue in period: $ \" + str(total_revenue))\n",
    "print(\"Average Monthly Net Change: $\" + str(monthly_change))\n",
    "print(f\"Greatest Monthly Increase: {month_increase} (${profit_increase})\")\n",
    "print(f\"Greatest Monthly Loss: {month_decrease} (${profit_decrease})\")\n",
    "\n"
   ]
  },
  {
   "cell_type": "code",
   "execution_count": null,
   "metadata": {},
   "outputs": [],
   "source": []
  }
 ],
 "metadata": {
  "kernelspec": {
   "display_name": "Python 3",
   "language": "python",
   "name": "python3"
  },
  "language_info": {
   "codemirror_mode": {
    "name": "ipython",
    "version": 3
   },
   "file_extension": ".py",
   "mimetype": "text/x-python",
   "name": "python",
   "nbconvert_exporter": "python",
   "pygments_lexer": "ipython3",
   "version": "3.8.3"
  }
 },
 "nbformat": 4,
 "nbformat_minor": 4
}
