{
 "cells": [
  {
   "cell_type": "code",
   "execution_count": 3,
   "metadata": {},
   "outputs": [],
   "source": [
    "import statistics\n",
    "\n",
    "line_num = 0\n",
    "months = []\n",
    "profit_loss_change = 0\n",
    "total_months = 0\n",
    "curent_total = 0\n",
    "current_month = 0\n",
    "previous_month = 0\n",
    "revenue_change_list = []\n",
    "sum_changes = []\n",
    "average_change = 0\n",
    "net_total = 0\n",
    "greatest_increase = []\n",
    "greatest_decrease = []\n",
    "worst_date = []\n",
    "month_of_change = []\n"
   ]
  },
  {
   "cell_type": "code",
   "execution_count": 4,
   "metadata": {},
   "outputs": [],
   "source": [
    "from pathlib import Path\n",
    "import csv\n",
    "csvpath = \"budget_data.csv\"\n",
    "\n",
    "with open(csvpath) as csvfile:\n",
    "    csvreader = csv.reader(csvfile)\n",
    "\n",
    "    csv_header = next(csvreader)\n",
    "    line_num = +1\n",
    "\n",
    "    for row in csvreader:\n",
    "        total_months += 1\n",
    "        current_month = int(row[1])\n",
    "        net_total += current_month\n",
    "    \n",
    "        if total_months == 1:\n",
    "            previous_month = current_month\n",
    "        else:\n",
    "            profit_loss_change = current_month - previous_month\n",
    "            revenue_change_list.append(profit_loss_change)\n",
    "            previous_month = current_month\n",
    "            months.append(row[0])\n"
   ]
  },
  {
   "cell_type": "code",
   "execution_count": 5,
   "metadata": {},
   "outputs": [],
   "source": [
    "sum_changes = sum(revenue_change_list)\n",
    "average_change = round(statistics.mean(revenue_change_list), 2)\n",
    "greatest_increase = max(revenue_change_list)\n",
    "greatest_decrease = min(revenue_change_list)\n"
   ]
  },
  {
   "cell_type": "code",
   "execution_count": 7,
   "metadata": {},
   "outputs": [
    {
     "name": "stdout",
     "output_type": "stream",
     "text": [
      "------Financial Analysis-----\n",
      "Total Months: 86\n",
      "Total: $38382578\n",
      "Greatest Increase: $1926159\n",
      "Greatest Monthly Increase: Feb-12\n",
      "Greatest Monthly Decrease: Sep-13\n",
      "Greatest Decrease: $-2196167\n",
      "Average Change: $-2315.12\n"
     ]
    }
   ],
   "source": [
    "print(\"------Financial Analysis-----\")\n",
    "print (f\"Total Months: {total_months}\")\n",
    "print (f\"Total: ${net_total}\")\n",
    "print(f\"Greatest Increase: ${greatest_increase}\")\n",
    "print(f\"Greatest Monthly Increase: {months[revenue_change_list.index(greatest_increase)]}\")\n",
    "print(f\"Greatest Monthly Decrease: {months[revenue_change_list.index(greatest_decrease)]}\")\n",
    "print(f\"Greatest Decrease: ${greatest_decrease}\")\n",
    "print(f\"Average Change: ${average_change}\")\n",
    "\n",
    "\n",
    "with open (\"./file.txt\", \"w\") as outfile:\n",
    "    outfile.write(\"------Financial Analysis-----\\n\")\n",
    "    outfile.write (f\"Total Months: {total_months}\\n\")\n",
    "    outfile.write(f\"Total: ${net_total}\\n\")\n",
    "    outfile.write(f\"Greatest Increase: ${greatest_increase}\\n\")\n",
    "    outfile.write(f\"Greatest Monthly Increase: {months[revenue_change_list.index(greatest_increase)]}\\n\")\n",
    "    outfile.write(f\"Greatest Monthly Decrease: {months[revenue_change_list.index(greatest_decrease)]}\\n\")\n",
    "    outfile.write(f\"Greatest Decrease: ${greatest_decrease}\\n\")\n",
    "    outfile.write(f\"Average Change: ${average_change}\\n\")\n"
   ]
  },
  {
   "cell_type": "code",
   "execution_count": null,
   "metadata": {},
   "outputs": [],
   "source": [
    "\n"
   ]
  },
  {
   "cell_type": "code",
   "execution_count": null,
   "metadata": {},
   "outputs": [],
   "source": []
  }
 ],
 "metadata": {
  "kernelspec": {
   "display_name": "Python 3",
   "language": "python",
   "name": "python3"
  },
  "language_info": {
   "codemirror_mode": {
    "name": "ipython",
    "version": 3
   },
   "file_extension": ".py",
   "mimetype": "text/x-python",
   "name": "python",
   "nbconvert_exporter": "python",
   "pygments_lexer": "ipython3",
   "version": "3.8.3"
  }
 },
 "nbformat": 4,
 "nbformat_minor": 4
}
