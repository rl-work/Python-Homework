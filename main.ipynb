{
 "cells": [
  {
   "cell_type": "code",
   "execution_count": 47,
   "metadata": {},
   "outputs": [],
   "source": [
    "from pathlib import Path\n",
    "import os\n",
    "import csv\n",
    "csvpath = Path(\"budget_data.csv\")\n",
    "budget_data = []"
   ]
  },
  {
   "cell_type": "code",
   "execution_count": 48,
   "metadata": {},
   "outputs": [],
   "source": [
    "date = []\n",
    "profit_loss = []\n",
    "line_num = 0"
   ]
  },
  {
   "cell_type": "code",
   "execution_count": 49,
   "metadata": {},
   "outputs": [
    {
     "name": "stdout",
     "output_type": "stream",
     "text": [
      "['Date', 'Profit/Losses']\n"
     ]
    }
   ],
   "source": [
    "with open(csvpath, 'r') as csvfile:\n",
    "    csvreader = csv.reader(csvfile, delimiter=\",\")\n",
    "    csv_header = next(csvreader)\n",
    "    print(f\"{csv_header}\")"
   ]
  },
  {
   "cell_type": "code",
   "execution_count": 2,
   "metadata": {},
   "outputs": [
    {
     "name": "stdout",
     "output_type": "stream",
     "text": [
      "Date: {date}Profit/Losses: {profit_loss}\n",
      "Date: {date}Profit/Losses: {profit_loss}\n"
     ]
    }
   ],
   "source": [
    "row = [{\"\"}, {}]\n",
    "\n",
    "for csv_reader in row:\n",
    "        print('Date: {date}''Profit/Losses: {profit_loss}')\n",
    "date = ([0])\n",
    "prof_loss = ([1])\n",
    "\n",
    "total_months = 0\n",
    "net_total_pl = 0\n",
    "\n",
    "average_pl = 0\n",
    "max_increase = 0\n",
    "max_decrease = 0"
   ]
  },
  {
   "cell_type": "code",
   "execution_count": 65,
   "metadata": {},
   "outputs": [
    {
     "ename": "SyntaxError",
     "evalue": "unexpected EOF while parsing (<ipython-input-65-d881df339c26>, line 3)",
     "output_type": "error",
     "traceback": [
      "\u001b[1;36m  File \u001b[1;32m\"<ipython-input-65-d881df339c26>\"\u001b[1;36m, line \u001b[1;32m3\u001b[0m\n\u001b[1;33m    print((\"Total Months:\" (total_months))\u001b[0m\n\u001b[1;37m                                            ^\u001b[0m\n\u001b[1;31mSyntaxError\u001b[0m\u001b[1;31m:\u001b[0m unexpected EOF while parsing\n"
     ]
    }
   ],
   "source": [
    "print(\"Financial Analysis:\")\n",
    "print(\"----------------------------\")\n",
    "print((\"Total Months:\" (total_months))  \n",
    "print(\"Net Total:\" (net_total)\n",
    "print(\"Average Change: \" {average_pl})\n",
    "print(\"Maximum Increase in Profits: \" {max_increase})\n",
    "print(\"Maximum Decrease in Profits: \" {max_decrease})"
   ]
  },
  {
   "cell_type": "code",
   "execution_count": null,
   "metadata": {},
   "outputs": [],
   "source": []
  },
  {
   "cell_type": "code",
   "execution_count": null,
   "metadata": {},
   "outputs": [],
   "source": []
  }
 ],
 "metadata": {
  "kernelspec": {
   "display_name": "Python 3",
   "language": "python",
   "name": "python3"
  },
  "language_info": {
   "codemirror_mode": {
    "name": "ipython",
    "version": 3
   },
   "file_extension": ".py",
   "mimetype": "text/x-python",
   "name": "python",
   "nbconvert_exporter": "python",
   "pygments_lexer": "ipython3",
   "version": "3.8.3"
  }
 },
 "nbformat": 4,
 "nbformat_minor": 4
}
